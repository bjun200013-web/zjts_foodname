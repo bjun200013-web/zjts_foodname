{
 "cells": [
  {
   "cell_type": "code",
   "execution_count": null,
   "id": "9596e33a",
   "metadata": {},
   "outputs": [
    {
     "name": "stdout",
     "output_type": "stream",
     "text": [
      "读取文件：D:\\crwu\\data\\foodname_classification\\测试集V2.1\\已标注\\已评审\\C2_testcase_lunch_and_dinner_freq5_familarity5.xlsx\n"
     ]
    },
    {
     "name": "stderr",
     "output_type": "stream",
     "text": [
      "c:\\ProgramData\\anaconda3\\Lib\\site-packages\\openpyxl\\worksheet\\_read_only.py:85: UserWarning: Data Validation extension is not supported and will be removed\n",
      "  for idx, row in parser.parse():\n",
      "C:\\Users\\crwu\\AppData\\Local\\Temp\\ipykernel_52024\\2239189801.py:67: FutureWarning: Setting an item of incompatible dtype is deprecated and will raise an error in a future version of pandas. Value 'False' has dtype incompatible with float64, please explicitly cast to a compatible dtype first.\n",
      "  temp_df.loc[i, \"是否删除\"] = False\n",
      "c:\\ProgramData\\anaconda3\\Lib\\site-packages\\openpyxl\\worksheet\\_read_only.py:85: UserWarning: Data Validation extension is not supported and will be removed\n",
      "  for idx, row in parser.parse():\n",
      "C:\\Users\\crwu\\AppData\\Local\\Temp\\ipykernel_52024\\2239189801.py:67: FutureWarning: Setting an item of incompatible dtype is deprecated and will raise an error in a future version of pandas. Value 'False' has dtype incompatible with float64, please explicitly cast to a compatible dtype first.\n",
      "  temp_df.loc[i, \"是否删除\"] = False\n"
     ]
    },
    {
     "name": "stdout",
     "output_type": "stream",
     "text": [
      "读取文件：D:\\crwu\\data\\foodname_classification\\测试集V2.1\\已标注\\已评审\\C3_testcase_memory_freq3_familarity4.xlsx\n",
      "读取文件：D:\\crwu\\data\\foodname_classification\\测试集V2.1\\已标注\\已评审\\C5_testcase_main_food_freq4_familarity5.xlsx\n",
      "保存文件：ref.csv\n"
     ]
    },
    {
     "name": "stderr",
     "output_type": "stream",
     "text": [
      "C:\\Users\\crwu\\AppData\\Local\\Temp\\ipykernel_52024\\2239189801.py:69: FutureWarning: Setting an item of incompatible dtype is deprecated and will raise an error in a future version of pandas. Value 'True' has dtype incompatible with float64, please explicitly cast to a compatible dtype first.\n",
      "  temp_df.loc[i, \"是否删除\"] = True\n"
     ]
    }
   ],
   "source": [
    "import pandas as pd\n",
    "import os\n",
    "\n",
    "testcase_dir = r\"D:\\crwu\\data\\foodname_classification\\测试集V2.1\\已标注\\已评审\"\n",
    "\n",
    "testcase_paths = [\n",
    "    os.path.join(testcase_dir, file)\n",
    "    for file in os.listdir(testcase_dir)\n",
    "    if file.endswith(\".xlsx\") and file.startswith(\"C\")\n",
    "]\n",
    "testcase_paths.sort(reverse=False)\n",
    "\n",
    "\n",
    "ref_target_df = pd.DataFrame(\n",
    "    {\n",
    "        \"原始菜名\": [],\n",
    "        \"建议菜名\": [],\n",
    "        \"是否删除\": [],\n",
    "    }\n",
    ")\n",
    "\n",
    "for file in testcase_paths:\n",
    "    print(f\"读取文件：{file}\")\n",
    "    filename = os.path.basename(file).rstrip(\".xlsx\")\n",
    "    # if not (\n",
    "    #     (\n",
    "    #         filename.startswith(\"C5\")\n",
    "    #         # and filename.endswith(\"merged.xlsx\")\n",
    "    #     )\n",
    "    #     or filename.startswith(\"C3\")\n",
    "    # ):\n",
    "    #     continue\n",
    "    df = pd.read_excel(file, sheet_name=0)\n",
    "    # print(df)\n",
    "    temp_df = pd.DataFrame(\n",
    "        {\n",
    "            \"原始菜名\": [],\n",
    "            \"建议菜名\": [],\n",
    "            \"是否删除\": [],\n",
    "            \"测试集名称\": [],\n",
    "        }\n",
    "    )\n",
    "    # print(df.columns)\n",
    "    temp_df[\"原始菜名\"] = df[\"菜品名\"]\n",
    "    temp_df[\"建议菜名\"] = df[\"建议菜名\"]\n",
    "    temp_df[\"是否删除\"] = df[\"是否删除\"]\n",
    "    temp_df[\"测试集名称\"] = [filename for _ in range(len(df))]\n",
    "    add_list = df[df[\"替换菜名\"].notnull()][\"替换菜名\"].tolist()\n",
    "    # print(add_list)\n",
    "    add_df = pd.DataFrame(\n",
    "        {\n",
    "            \"原始菜名\": add_list,\n",
    "            \"建议菜名\": add_list,\n",
    "            \"是否删除\": [False for _ in add_list],\n",
    "            \"测试集名称\": [filename for _ in add_list],\n",
    "        }\n",
    "    )\n",
    "    temp_df = pd.concat([temp_df, add_df])\n",
    "    # print(temp_df.tail(10))\n",
    "    temp_df.reset_index(drop=True, inplace=True)\n",
    "    for i in range(len(temp_df)):\n",
    "        if pd.isna(temp_df.iloc[i][\"建议菜名\"]):\n",
    "            temp_df.loc[i, \"建议菜名\"] = temp_df.iloc[i][\"原始菜名\"]\n",
    "        if pd.isna(temp_df.iloc[i][\"原始菜名\"]) and not pd.isna(\n",
    "            temp_df.iloc[i][\"建议菜名\"]\n",
    "        ):\n",
    "            temp_df.loc[i, \"原始菜名\"] = temp_df.iloc[i][\"建议菜名\"]\n",
    "        if pd.isna(temp_df.iloc[i][\"是否删除\"]) or temp_df.iloc[i][\"是否删除\"] == 0:\n",
    "            temp_df.loc[i, \"是否删除\"] = False\n",
    "        else:\n",
    "            temp_df.loc[i, \"是否删除\"] = True\n",
    "    # print(temp_df.tail(10))\n",
    "\n",
    "    ref_target_df = pd.concat([ref_target_df, temp_df])\n",
    "    # print(temp_df)\n",
    "ref_path = os.path.join(testcase_dir, \"ref.csv\")\n",
    "ref_target_df.to_csv(\n",
    "    ref_path,\n",
    "    index=False,\n",
    "    encoding=\"gbk\",\n",
    ")\n",
    "print(\"保存文件：ref.csv\")"
   ]
  },
  {
   "cell_type": "code",
   "execution_count": 4,
   "id": "88f6d812",
   "metadata": {},
   "outputs": [],
   "source": [
    "ref_target_df_2 = ref_target_df[ref_target_df[\"是否删除\"] == False]\n",
    "ref_target_df_2.insert(2, \"是否汇聚\", [True for _  in range(len(ref_target_df_2))])\n",
    "for index, row in ref_target_df_2.iterrows():\n",
    "    if row[\"原始菜名\"] == row[\"建议菜名\"]:\n",
    "        ref_target_df_2.loc[index, \"是否汇聚\"] = False\n",
    "ref_path = os.path.join(testcase_dir, \"ref2.csv\")\n",
    "ref_target_df_2.to_csv(\n",
    "    ref_path,\n",
    "    index=False,\n",
    "    encoding=\"gbk\",\n",
    ")"
   ]
  },
  {
   "cell_type": "code",
   "execution_count": null,
   "id": "0986f528",
   "metadata": {},
   "outputs": [],
   "source": [
    "testcase_names = set(ref_target_df[\"测试集名称\"].to_list())\n",
    "for testcase_name in testcase_names:\n",
    "    print(testcase_name)\n",
    "    ref_target_df = pd.DataFrame(\n",
    "        {\n",
    "            \"爬取菜名\": [],\n",
    "            \"ground_truth\": [], \n",
    "        }\n",
    "    )"
   ]
  }
 ],
 "metadata": {
  "kernelspec": {
   "display_name": "base",
   "language": "python",
   "name": "python3"
  },
  "language_info": {
   "codemirror_mode": {
    "name": "ipython",
    "version": 3
   },
   "file_extension": ".py",
   "mimetype": "text/x-python",
   "name": "python",
   "nbconvert_exporter": "python",
   "pygments_lexer": "ipython3",
   "version": "3.12.7"
  }
 },
 "nbformat": 4,
 "nbformat_minor": 5
}
