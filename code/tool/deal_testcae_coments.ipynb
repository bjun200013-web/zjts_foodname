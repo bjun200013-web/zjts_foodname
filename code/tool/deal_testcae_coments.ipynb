{
 "cells": [
  {
   "cell_type": "code",
   "execution_count": 75,
   "id": "9596e33a",
   "metadata": {},
   "outputs": [
    {
     "name": "stdout",
     "output_type": "stream",
     "text": [
      "读取文件：D:\\crwu\\data\\foodname_classification\\测试集V2.1\\已标注\\已评审\\C5_testcase_main_food_freq4_familarity5_yl.xlsx\n",
      "读取文件：D:\\crwu\\data\\foodname_classification\\测试集V2.1\\已标注\\已评审\\C5_testcase_main_food_freq4_familarity5_merged.xlsx\n",
      "保存文件：ref.xlsx\n",
      "读取文件：D:\\crwu\\data\\foodname_classification\\测试集V2.1\\已标注\\已评审\\C3_testcase_memory_freq3_familarity4_crw.xlsx\n"
     ]
    },
    {
     "name": "stderr",
     "output_type": "stream",
     "text": [
      "c:\\ProgramData\\anaconda3\\Lib\\site-packages\\openpyxl\\worksheet\\_read_only.py:85: UserWarning: Data Validation extension is not supported and will be removed\n",
      "  for idx, row in parser.parse():\n"
     ]
    },
    {
     "ename": "KeyError",
     "evalue": "'是否删除'",
     "output_type": "error",
     "traceback": [
      "\u001b[1;31m---------------------------------------------------------------------------\u001b[0m",
      "\u001b[1;31mKeyError\u001b[0m                                  Traceback (most recent call last)",
      "File \u001b[1;32mc:\\ProgramData\\anaconda3\\Lib\\site-packages\\pandas\\core\\indexes\\base.py:3805\u001b[0m, in \u001b[0;36mIndex.get_loc\u001b[1;34m(self, key)\u001b[0m\n\u001b[0;32m   3804\u001b[0m \u001b[38;5;28;01mtry\u001b[39;00m:\n\u001b[1;32m-> 3805\u001b[0m     \u001b[38;5;28;01mreturn\u001b[39;00m \u001b[38;5;28mself\u001b[39m\u001b[38;5;241m.\u001b[39m_engine\u001b[38;5;241m.\u001b[39mget_loc(casted_key)\n\u001b[0;32m   3806\u001b[0m \u001b[38;5;28;01mexcept\u001b[39;00m \u001b[38;5;167;01mKeyError\u001b[39;00m \u001b[38;5;28;01mas\u001b[39;00m err:\n",
      "File \u001b[1;32mindex.pyx:167\u001b[0m, in \u001b[0;36mpandas._libs.index.IndexEngine.get_loc\u001b[1;34m()\u001b[0m\n",
      "File \u001b[1;32mindex.pyx:196\u001b[0m, in \u001b[0;36mpandas._libs.index.IndexEngine.get_loc\u001b[1;34m()\u001b[0m\n",
      "File \u001b[1;32mpandas\\\\_libs\\\\hashtable_class_helper.pxi:7081\u001b[0m, in \u001b[0;36mpandas._libs.hashtable.PyObjectHashTable.get_item\u001b[1;34m()\u001b[0m\n",
      "File \u001b[1;32mpandas\\\\_libs\\\\hashtable_class_helper.pxi:7089\u001b[0m, in \u001b[0;36mpandas._libs.hashtable.PyObjectHashTable.get_item\u001b[1;34m()\u001b[0m\n",
      "\u001b[1;31mKeyError\u001b[0m: '是否删除'",
      "\nThe above exception was the direct cause of the following exception:\n",
      "\u001b[1;31mKeyError\u001b[0m                                  Traceback (most recent call last)",
      "Cell \u001b[1;32mIn[75], line 27\u001b[0m\n\u001b[0;32m     25\u001b[0m ref_target_df[\u001b[38;5;124m\"\u001b[39m\u001b[38;5;124m原始菜名\u001b[39m\u001b[38;5;124m\"\u001b[39m] \u001b[38;5;241m=\u001b[39m df[\u001b[38;5;124m'\u001b[39m\u001b[38;5;124m菜品名\u001b[39m\u001b[38;5;124m'\u001b[39m]\n\u001b[0;32m     26\u001b[0m ref_target_df[\u001b[38;5;124m\"\u001b[39m\u001b[38;5;124m建议菜名\u001b[39m\u001b[38;5;124m\"\u001b[39m] \u001b[38;5;241m=\u001b[39m df[\u001b[38;5;124m'\u001b[39m\u001b[38;5;124m建议菜名\u001b[39m\u001b[38;5;124m'\u001b[39m]\n\u001b[1;32m---> 27\u001b[0m ref_target_df[\u001b[38;5;124m\"\u001b[39m\u001b[38;5;124m是否删除\u001b[39m\u001b[38;5;124m\"\u001b[39m] \u001b[38;5;241m=\u001b[39m df[\u001b[38;5;124m'\u001b[39m\u001b[38;5;124m是否删除\u001b[39m\u001b[38;5;124m'\u001b[39m]\n\u001b[0;32m     28\u001b[0m add_list \u001b[38;5;241m=\u001b[39m df[df[\u001b[38;5;124m'\u001b[39m\u001b[38;5;124m替换菜名\u001b[39m\u001b[38;5;124m'\u001b[39m]\u001b[38;5;241m.\u001b[39mnotnull()][\u001b[38;5;124m\"\u001b[39m\u001b[38;5;124m替换菜名\u001b[39m\u001b[38;5;124m\"\u001b[39m]\u001b[38;5;241m.\u001b[39mtolist()\n\u001b[0;32m     30\u001b[0m ref_target_df \u001b[38;5;241m=\u001b[39m pd\u001b[38;5;241m.\u001b[39mconcat([ref_target_df, pd\u001b[38;5;241m.\u001b[39mDataFrame(add_list, columns\u001b[38;5;241m=\u001b[39m[\u001b[38;5;124m\"\u001b[39m\u001b[38;5;124m原始菜名\u001b[39m\u001b[38;5;124m\"\u001b[39m])])\n",
      "File \u001b[1;32mc:\\ProgramData\\anaconda3\\Lib\\site-packages\\pandas\\core\\frame.py:4102\u001b[0m, in \u001b[0;36mDataFrame.__getitem__\u001b[1;34m(self, key)\u001b[0m\n\u001b[0;32m   4100\u001b[0m \u001b[38;5;28;01mif\u001b[39;00m \u001b[38;5;28mself\u001b[39m\u001b[38;5;241m.\u001b[39mcolumns\u001b[38;5;241m.\u001b[39mnlevels \u001b[38;5;241m>\u001b[39m \u001b[38;5;241m1\u001b[39m:\n\u001b[0;32m   4101\u001b[0m     \u001b[38;5;28;01mreturn\u001b[39;00m \u001b[38;5;28mself\u001b[39m\u001b[38;5;241m.\u001b[39m_getitem_multilevel(key)\n\u001b[1;32m-> 4102\u001b[0m indexer \u001b[38;5;241m=\u001b[39m \u001b[38;5;28mself\u001b[39m\u001b[38;5;241m.\u001b[39mcolumns\u001b[38;5;241m.\u001b[39mget_loc(key)\n\u001b[0;32m   4103\u001b[0m \u001b[38;5;28;01mif\u001b[39;00m is_integer(indexer):\n\u001b[0;32m   4104\u001b[0m     indexer \u001b[38;5;241m=\u001b[39m [indexer]\n",
      "File \u001b[1;32mc:\\ProgramData\\anaconda3\\Lib\\site-packages\\pandas\\core\\indexes\\base.py:3812\u001b[0m, in \u001b[0;36mIndex.get_loc\u001b[1;34m(self, key)\u001b[0m\n\u001b[0;32m   3807\u001b[0m     \u001b[38;5;28;01mif\u001b[39;00m \u001b[38;5;28misinstance\u001b[39m(casted_key, \u001b[38;5;28mslice\u001b[39m) \u001b[38;5;129;01mor\u001b[39;00m (\n\u001b[0;32m   3808\u001b[0m         \u001b[38;5;28misinstance\u001b[39m(casted_key, abc\u001b[38;5;241m.\u001b[39mIterable)\n\u001b[0;32m   3809\u001b[0m         \u001b[38;5;129;01mand\u001b[39;00m \u001b[38;5;28many\u001b[39m(\u001b[38;5;28misinstance\u001b[39m(x, \u001b[38;5;28mslice\u001b[39m) \u001b[38;5;28;01mfor\u001b[39;00m x \u001b[38;5;129;01min\u001b[39;00m casted_key)\n\u001b[0;32m   3810\u001b[0m     ):\n\u001b[0;32m   3811\u001b[0m         \u001b[38;5;28;01mraise\u001b[39;00m InvalidIndexError(key)\n\u001b[1;32m-> 3812\u001b[0m     \u001b[38;5;28;01mraise\u001b[39;00m \u001b[38;5;167;01mKeyError\u001b[39;00m(key) \u001b[38;5;28;01mfrom\u001b[39;00m \u001b[38;5;21;01merr\u001b[39;00m\n\u001b[0;32m   3813\u001b[0m \u001b[38;5;28;01mexcept\u001b[39;00m \u001b[38;5;167;01mTypeError\u001b[39;00m:\n\u001b[0;32m   3814\u001b[0m     \u001b[38;5;66;03m# If we have a listlike key, _check_indexing_error will raise\u001b[39;00m\n\u001b[0;32m   3815\u001b[0m     \u001b[38;5;66;03m#  InvalidIndexError. Otherwise we fall through and re-raise\u001b[39;00m\n\u001b[0;32m   3816\u001b[0m     \u001b[38;5;66;03m#  the TypeError.\u001b[39;00m\n\u001b[0;32m   3817\u001b[0m     \u001b[38;5;28mself\u001b[39m\u001b[38;5;241m.\u001b[39m_check_indexing_error(key)\n",
      "\u001b[1;31mKeyError\u001b[0m: '是否删除'"
     ]
    }
   ],
   "source": [
    "import pandas as pd\n",
    "import os\n",
    "\n",
    "testcase_dir = r\"D:\\crwu\\data\\foodname_classification\\测试集V2.1\\已标注\\已评审\"\n",
    "\n",
    "testcase_paths = [\n",
    "    os.path.join(testcase_dir, file)\n",
    "    for file in os.listdir(testcase_dir)\n",
    "    if file.endswith(\".xlsx\") and file.startswith(\"C\")\n",
    "]\n",
    "testcase_paths.sort(reverse=True)\n",
    "for file in testcase_paths:\n",
    "    print(f\"读取文件：{file}\")\n",
    "    if not ((os.path.basename(file).startswith(\"C5\") and os.path.basename(file).endswith(\"merged.xlsx\")) or os.path.basename(file).startswith(\"C3\")):\n",
    "        continue\n",
    "    df = pd.read_excel(file, sheet_name=0)\n",
    "    # print(df)\n",
    "    ref_target_df = pd.DataFrame(\n",
    "        {\n",
    "            \"原始菜名\": [],\n",
    "            \"建议菜名\": [],\n",
    "            \"是否删除\": [],            \n",
    "        }\n",
    "    )\n",
    "    ref_target_df[\"原始菜名\"] = df['菜品名']\n",
    "    ref_target_df[\"建议菜名\"] = df['建议菜名']\n",
    "    ref_target_df[\"是否删除\"] = df['是否删除']\n",
    "    add_list = df[df['替换菜名'].notnull()][\"替换菜名\"].tolist()\n",
    "    \n",
    "    ref_target_df = pd.concat([ref_target_df, pd.DataFrame(add_list, columns=[\"原始菜名\"])])\n",
    "    \n",
    "    # for i in range(len(ref_target_df)):\n",
    "    #     if pd.isna(ref_target_df.iloc[i][\"建议菜名\"]):\n",
    "    #         ref_target_df.loc[i, \"建议菜名\"] = ref_target_df.iloc[i][\"原始菜名\"]\n",
    "    #     if pd.isna(ref_target_df.iloc[i][\"是否删除\"]) or ref_target_df.iloc[i][\"是否删除\"] == 0:\n",
    "    #         ref_target_df.loc[i, \"是否删除\"] = False\n",
    "    #     else:            \n",
    "    #         ref_target_df.loc[i, \"是否删除\"] = True\n",
    "    # print(ref_target_df)\n",
    "    ref_target_df.to_excel(os.path.join(r'D:\\crwu\\data\\foodname_classification\\测试集V2.1\\已标注\\已评审', 'ref.xlsx'),  index=False)\n",
    "    print(\"保存文件：ref.xlsx\")"
   ]
  },
  {
   "cell_type": "code",
   "execution_count": null,
   "id": "88f6d812",
   "metadata": {},
   "outputs": [],
   "source": [
    "for file in testcase_paths:\n",
    "    print(f\"读取文件：{file}\")\n",
    "    if not os.path.basename(file).startswith(\"C5\"):\n",
    "        continue\n",
    "    df = pd.read_excel(file, sheet_name=0)\n",
    "    ref_target_df = pd.DataFrame(\n",
    "        {\n",
    "            \"爬取菜名\": [],\n",
    "            \"ground_truth\": [],        \n",
    "        }\n",
    "    )\n",
    "    "
   ]
  }
 ],
 "metadata": {
  "kernelspec": {
   "display_name": "base",
   "language": "python",
   "name": "python3"
  },
  "language_info": {
   "codemirror_mode": {
    "name": "ipython",
    "version": 3
   },
   "file_extension": ".py",
   "mimetype": "text/x-python",
   "name": "python",
   "nbconvert_exporter": "python",
   "pygments_lexer": "ipython3",
   "version": "3.12.7"
  }
 },
 "nbformat": 4,
 "nbformat_minor": 5
}
