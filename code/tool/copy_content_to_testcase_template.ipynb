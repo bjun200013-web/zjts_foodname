{
 "cells": [
  {
   "cell_type": "code",
   "execution_count": 2,
   "id": "a6bf7a78",
   "metadata": {},
   "outputs": [
    {
     "name": "stdout",
     "output_type": "stream",
     "text": [
      "['C1_testcase_breakfast_freq4_familarity5.csv', 'C2_testcase_lunch_and_dinner_freq5_familarity5.csv', 'C3_testcase_memory_freq3_familarity4.csv', 'C4_testcase_infer_freq5_familarity5.csv', 'C5_testcase_main_food_freq4_familarity5.csv', 'C6_testcase_ingrdient_freq.csv', 'C7_testcase_cooking_method.csv']\n",
      "['D:\\\\crwu\\\\data\\\\foodname_classification\\\\after_encoding_trans\\\\C1_testcase_breakfast_freq4_familarity5.csv', 'D:\\\\crwu\\\\data\\\\foodname_classification\\\\after_encoding_trans\\\\C2_testcase_lunch_and_dinner_freq5_familarity5.csv', 'D:\\\\crwu\\\\data\\\\foodname_classification\\\\after_encoding_trans\\\\C3_testcase_memory_freq3_familarity4.csv', 'D:\\\\crwu\\\\data\\\\foodname_classification\\\\after_encoding_trans\\\\C4_testcase_infer_freq5_familarity5.csv', 'D:\\\\crwu\\\\data\\\\foodname_classification\\\\after_encoding_trans\\\\C5_testcase_main_food_freq4_familarity5.csv', 'D:\\\\crwu\\\\data\\\\foodname_classification\\\\after_encoding_trans\\\\C6_testcase_ingrdient_freq.csv', 'D:\\\\crwu\\\\data\\\\foodname_classification\\\\after_encoding_trans\\\\C7_testcase_cooking_method.csv']\n"
     ]
    }
   ],
   "source": [
    "import pandas as pd\n",
    "import os\n",
    "\n",
    "testcase_root = r'D:\\crwu\\data\\foodname_classification\\after_encoding_trans'\n",
    "\n",
    "testcase_names = [filename for filename in os.listdir(testcase_root) if filename.startswith('C') and filename.endswith('.csv')]\n",
    "print(testcase_names)\n",
    "testcase_paths = [os.path.join(testcase_root, testcase_name) for testcase_name in sorted(testcase_names)]\n",
    "print(testcase_paths)"
   ]
  },
  {
   "cell_type": "code",
   "execution_count": null,
   "id": "3de00371",
   "metadata": {},
   "outputs": [
    {
     "name": "stderr",
     "output_type": "stream",
     "text": [
      "c:\\ProgramData\\anaconda3\\Lib\\site-packages\\openpyxl\\worksheet\\_read_only.py:85: UserWarning: Data Validation extension is not supported and will be removed\n",
      "  for idx, row in parser.parse():\n",
      "c:\\ProgramData\\anaconda3\\Lib\\site-packages\\openpyxl\\worksheet\\_read_only.py:85: UserWarning: Data Validation extension is not supported and will be removed\n",
      "  for idx, row in parser.parse():\n",
      "c:\\ProgramData\\anaconda3\\Lib\\site-packages\\openpyxl\\worksheet\\_read_only.py:85: UserWarning: Data Validation extension is not supported and will be removed\n",
      "  for idx, row in parser.parse():\n",
      "c:\\ProgramData\\anaconda3\\Lib\\site-packages\\openpyxl\\worksheet\\_read_only.py:85: UserWarning: Data Validation extension is not supported and will be removed\n",
      "  for idx, row in parser.parse():\n",
      "c:\\ProgramData\\anaconda3\\Lib\\site-packages\\openpyxl\\worksheet\\_read_only.py:85: UserWarning: Data Validation extension is not supported and will be removed\n",
      "  for idx, row in parser.parse():\n",
      "c:\\ProgramData\\anaconda3\\Lib\\site-packages\\openpyxl\\worksheet\\_read_only.py:85: UserWarning: Data Validation extension is not supported and will be removed\n",
      "  for idx, row in parser.parse():\n",
      "c:\\ProgramData\\anaconda3\\Lib\\site-packages\\openpyxl\\worksheet\\_read_only.py:85: UserWarning: Data Validation extension is not supported and will be removed\n",
      "  for idx, row in parser.parse():\n"
     ]
    },
    {
     "ename": "",
     "evalue": "",
     "output_type": "error",
     "traceback": [
      "\u001b[1;31mThe Kernel crashed while executing code in the current cell or a previous cell. \n",
      "\u001b[1;31mPlease review the code in the cell(s) to identify a possible cause of the failure. \n",
      "\u001b[1;31mClick <a href='https://aka.ms/vscodeJupyterKernelCrash'>here</a> for more info. \n",
      "\u001b[1;31mView Jupyter <a href='command:jupyter.viewOutput'>log</a> for further details."
     ]
    }
   ],
   "source": [
    "testcase_template1_path = r\"D:\\crwu\\data\\foodname_classification\\测试集V2.1\\待标注\\testcase_fill_template1.xlsx\"\n",
    "testcase_template2_path = r\"D:\\crwu\\data\\foodname_classification\\测试集V2.1\\待标注\\testcase_fill_template2.xlsx\"\n",
    "testcase_dir = r'D:\\crwu\\data\\foodname_classification\\测试集V2.1\\待标注\\template2'\n",
    "\n",
    "\n",
    "for testcase_path in testcase_paths:\n",
    "    df = pd.read_csv(testcase_path, encoding='gbk')    \n",
    "    template_1_df = pd.read_excel(testcase_template1_path)\n",
    "    template_2_df = pd.read_excel(testcase_template2_path)\n",
    "    for column in df.columns:\n",
    "        if column in template_1_df.columns:\n",
    "            template_1_df[column] = df[column]\n",
    "        if column in template_2_df.columns:\n",
    "            template_2_df[column] = df[column]\n",
    "        # template_1_df.to_excel(os.path.join(testcase_dir, os.path.basename(testcase_path).replace('.csv', '_template1.xlsx')))\n",
    "        template_2_df.to_excel(os.path.join(testcase_dir, os.path.basename(testcase_path).replace('.csv', '.xlsx')), index=False)"
   ]
  }
 ],
 "metadata": {
  "kernelspec": {
   "display_name": "base",
   "language": "python",
   "name": "python3"
  },
  "language_info": {
   "codemirror_mode": {
    "name": "ipython",
    "version": 3
   },
   "file_extension": ".py",
   "mimetype": "text/x-python",
   "name": "python",
   "nbconvert_exporter": "python",
   "pygments_lexer": "ipython3",
   "version": "3.12.7"
  }
 },
 "nbformat": 4,
 "nbformat_minor": 5
}
