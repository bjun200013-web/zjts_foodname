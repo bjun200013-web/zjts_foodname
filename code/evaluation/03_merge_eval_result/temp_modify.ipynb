{
 "cells": [
  {
   "cell_type": "code",
   "execution_count": 6,
   "id": "711f4dc5",
   "metadata": {},
   "outputs": [
    {
     "name": "stdout",
     "output_type": "stream",
     "text": [
      "2025-10-12 20:39:17 - file_deal - INFO - [file_deal.py:151] - Loading dataset from CSV: /date0/crwu/zjts_foodname/data/evaluation/eval_res_of_llm/results_qwen_h100_v2_maxdistance50_3646.csv ...\n"
     ]
    }
   ],
   "source": [
    "import sys\n",
    "import pandas\n",
    "\n",
    "# 添加项目根目录到 Python 路径\n",
    "project_root = '/date0/crwu/zjts_foodname'\n",
    "if project_root not in sys.path:\n",
    "    sys.path.insert(0, project_root)\n",
    "    \n",
    "if project_root not in sys.path:\n",
    "    sys.path.insert(0, project_root)\n",
    "from packages.file_deal import read_dataset\n",
    "\n",
    "\n",
    "csv_file_path = r'/date0/crwu/zjts_foodname/data/evaluation/eval_res_of_llm/results_qwen_h100_v2_maxdistance50_3646.csv'\n",
    "output = r'/date0/crwu/zjts_foodname/data/evaluation/eval_res_of_llm/results_qwen3_h100_v2_maxdistance50_3646.csv'\n",
    "\n",
    "\n",
    "df = read_dataset(csv_file_path)\n",
    "df.to_csv(output,index=True)\n",
    "\n",
    "\n"
   ]
  },
  {
   "cell_type": "code",
   "execution_count": null,
   "id": "cca31f96",
   "metadata": {},
   "outputs": [],
   "source": []
  }
 ],
 "metadata": {
  "kernelspec": {
   "display_name": "ms-swift-eval",
   "language": "python",
   "name": "python3"
  },
  "language_info": {
   "codemirror_mode": {
    "name": "ipython",
    "version": 3
   },
   "file_extension": ".py",
   "mimetype": "text/x-python",
   "name": "python",
   "nbconvert_exporter": "python",
   "pygments_lexer": "ipython3",
   "version": "3.10.18"
  }
 },
 "nbformat": 4,
 "nbformat_minor": 5
}
